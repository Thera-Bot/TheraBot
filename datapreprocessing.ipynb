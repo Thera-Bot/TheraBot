{
 "cells": [
  {
   "cell_type": "code",
   "execution_count": 52,
   "id": "7a0283a1",
   "metadata": {},
   "outputs": [],
   "source": [
    "import pandas as pd\n",
    "import numpy as np\n",
    "import seaborn as sns\n",
    "import matplotlib.pyplot as plt\n",
    "import re\n",
    "from sklearn.feature_extraction.text import TfidfVectorizer\n",
    "from sklearn.model_selection import train_test_split\n"
   ]
  },
  {
   "cell_type": "code",
   "execution_count": 27,
   "id": "ff055750",
   "metadata": {},
   "outputs": [
    {
     "name": "stdout",
     "output_type": "stream",
     "text": [
      "        Emotion                                               Text\n",
      "0       neutral                                             Why ? \n",
      "1           joy    Sage Act upgrade on my to do list for tommorow.\n",
      "2       sadness  ON THE WAY TO MY HOMEGIRL BABY FUNERAL!!! MAN ...\n",
      "3           joy   Such an eye ! The true hazel eye-and so brill...\n",
      "4           joy  @Iluvmiasantos ugh babe.. hugggzzz for u .!  b...\n",
      "...         ...                                                ...\n",
      "34787  surprise  @MichelGW have you gift! Hope you like it! It'...\n",
      "34788       joy  The world didnt give it to me..so the world MO...\n",
      "34789     anger                           A man robbed me today . \n",
      "34790      fear  Youu call it JEALOUSY, I call it of #Losing YO...\n",
      "34791   sadness  I think about you baby, and I dream about you ...\n",
      "\n",
      "[34792 rows x 2 columns]\n"
     ]
    }
   ],
   "source": [
    "df=pd.read_csv(\"emotion_dataset_raw.csv\")\n",
    "print(df)"
   ]
  },
  {
   "cell_type": "code",
   "execution_count": 16,
   "id": "81f66b2a",
   "metadata": {},
   "outputs": [
    {
     "name": "stdout",
     "output_type": "stream",
     "text": [
      "['neutral' 'joy' 'sadness' 'fear' 'surprise' 'anger' 'shame' 'disgust']\n"
     ]
    }
   ],
   "source": [
    "print(df[\"Emotion\"].unique())"
   ]
  },
  {
   "cell_type": "code",
   "execution_count": 17,
   "id": "a3815774",
   "metadata": {},
   "outputs": [],
   "source": [
    "desired_emotions=['joy' ,'sadness', 'fear', 'anger', 'shame' ,'disgust']"
   ]
  },
  {
   "cell_type": "code",
   "execution_count": 29,
   "id": "dd13d7ed",
   "metadata": {},
   "outputs": [
    {
     "name": "stdout",
     "output_type": "stream",
     "text": [
      "['joy' 'sadness' 'fear' 'anger' 'shame' 'disgust']\n"
     ]
    }
   ],
   "source": [
    "pre_df=df[df['Emotion'].isin(desired_emotions)]\n",
    "print(pre_df[\"Emotion\"].unique())"
   ]
  },
  {
   "cell_type": "code",
   "execution_count": 30,
   "id": "33eacd1b",
   "metadata": {},
   "outputs": [
    {
     "name": "stdout",
     "output_type": "stream",
     "text": [
      "       Emotion                                               Text\n",
      "1          joy    Sage Act upgrade on my to do list for tommorow.\n",
      "2      sadness  ON THE WAY TO MY HOMEGIRL BABY FUNERAL!!! MAN ...\n",
      "3          joy   Such an eye ! The true hazel eye-and so brill...\n",
      "4          joy  @Iluvmiasantos ugh babe.. hugggzzz for u .!  b...\n",
      "5         fear  I'm expecting an extremely important phonecall...\n",
      "...        ...                                                ...\n",
      "34786      joy    Tuesday woken up to Oscar and Cornet practice X\n",
      "34788      joy  The world didnt give it to me..so the world MO...\n",
      "34789    anger                           A man robbed me today . \n",
      "34790     fear  Youu call it JEALOUSY, I call it of #Losing YO...\n",
      "34791  sadness  I think about you baby, and I dream about you ...\n",
      "\n",
      "[28476 rows x 2 columns]\n"
     ]
    }
   ],
   "source": [
    "print(pre_df)"
   ]
  },
  {
   "cell_type": "code",
   "execution_count": 31,
   "id": "30214103",
   "metadata": {},
   "outputs": [
    {
     "name": "stdout",
     "output_type": "stream",
     "text": [
      "joy        11045\n",
      "sadness     6722\n",
      "fear        5410\n",
      "anger       4297\n",
      "disgust      856\n",
      "shame        146\n",
      "Name: Emotion, dtype: int64\n"
     ]
    }
   ],
   "source": [
    "\n",
    "label_counts = pre_df['Emotion'].value_counts()\n",
    "\n",
    "# Print the label counts\n",
    "print(label_counts)\n"
   ]
  },
  {
   "cell_type": "code",
   "execution_count": 32,
   "id": "7335fb3a",
   "metadata": {},
   "outputs": [
    {
     "data": {
      "image/png": "[encoded data removed]",
      "text/plain": [
       "<Figure size 1000x600 with 1 Axes>"
      ]
     },
     "metadata": {},
     "output_type": "display_data"
    }
   ],
   "source": [
    "import matplotlib.pyplot as plt\n",
    "\n",
    "# Set the style of the visualization\n",
    "sns.set(style=\"whitegrid\")\n",
    "\n",
    "# Create a bar plot\n",
    "plt.figure(figsize=(10, 6))\n",
    "sns.barplot(x=label_counts.index, y=label_counts.values, palette=\"viridis\")\n",
    "\n",
    "# Add titles and labels\n",
    "plt.title('Label Distribution')\n",
    "plt.xlabel('Labels')\n",
    "plt.ylabel('Count')\n",
    "\n",
    "# Display the plot\n",
    "plt.show()\n"
   ]
  },
  {
   "cell_type": "code",
   "execution_count": 33,
   "id": "fd427be8",
   "metadata": {},
   "outputs": [
    {
     "name": "stdout",
     "output_type": "stream",
     "text": [
      "       Emotion                                               Text\n",
      "1          joy    Sage Act upgrade on my to do list for tommorow.\n",
      "2      sadness  ON THE WAY TO MY HOMEGIRL BABY FUNERAL!!! MAN ...\n",
      "3          joy   Such an eye ! The true hazel eye-and so brill...\n",
      "4          joy  @Iluvmiasantos ugh babe.. hugggzzz for u .!  b...\n",
      "5         fear  I'm expecting an extremely important phonecall...\n",
      "...        ...                                                ...\n",
      "34786      joy    Tuesday woken up to Oscar and Cornet practice X\n",
      "34788      joy  The world didnt give it to me..so the world MO...\n",
      "34789    anger                           A man robbed me today . \n",
      "34790     fear  Youu call it JEALOUSY, I call it of #Losing YO...\n",
      "34791  sadness  I think about you baby, and I dream about you ...\n",
      "\n",
      "[28476 rows x 2 columns]\n"
     ]
    }
   ],
   "source": [
    "import re\n",
    "pre_df_copy=pre_df.copy()\n",
    "print(pre_df_copy)"
   ]
  },
  {
   "cell_type": "code",
   "execution_count": 34,
   "id": "afcbf5ff",
   "metadata": {},
   "outputs": [
    {
     "name": "stdout",
     "output_type": "stream",
     "text": [
      "   Emotion                                               Text  \\\n",
      "1      joy    Sage Act upgrade on my to do list for tommorow.   \n",
      "2  sadness  ON THE WAY TO MY HOMEGIRL BABY FUNERAL!!! MAN ...   \n",
      "3      joy   Such an eye ! The true hazel eye-and so brill...   \n",
      "4      joy  @Iluvmiasantos ugh babe.. hugggzzz for u .!  b...   \n",
      "5     fear  I'm expecting an extremely important phonecall...   \n",
      "\n",
      "                                        cleaned_text  \n",
      "1     sage act upgrade on my to do list for tommorow  \n",
      "2  on the way to my homegirl baby funeral man i h...  \n",
      "3  such an eye the true hazel eyeand so brilliant...  \n",
      "4  iluvmiasantos ugh babe hugggzzz for u babe naa...  \n",
      "5  im expecting an extremely important phonecall ...  \n"
     ]
    }
   ],
   "source": [
    "# Remove duplicates\n",
    "pre_df_copy.drop_duplicates(inplace=True)\n",
    "\n",
    "# Handle missing values\n",
    "pre_df_copy.dropna(inplace=True)\n",
    "\n",
    "# Text preprocessing function\n",
    "def clean_text(text):\n",
    "    text = text.lower()  # Convert to lowercase\n",
    "    text = re.sub(r'\\d+', '', text)  # Remove numbers\n",
    "    text = re.sub(r'[^\\w\\s]', '', text)  # Remove punctuation\n",
    "    text = re.sub(r'\\s+', ' ', text).strip()  # Remove extra spaces\n",
    "    return text\n",
    "\n",
    "# Apply text preprocessing\n",
    "pre_df_copy['cleaned_text'] = pre_df_copy['Text'].apply(clean_text)\n",
    "\n",
    "print(pre_df_copy.head())\n"
   ]
  },
  {
   "cell_type": "code",
   "execution_count": 35,
   "id": "a507c7a1",
   "metadata": {},
   "outputs": [
    {
     "name": "stdout",
     "output_type": "stream",
     "text": [
      "Data saved to preprocessed_dataset.csv\n"
     ]
    }
   ],
   "source": [
    "# Save the DataFrame to a new CSV file\n",
    "pre_df_copy.to_csv('preprocessed_dataset.csv', index=False)\n",
    "\n",
    "print(\"Data saved to preprocessed_dataset.csv\")\n"
   ]
  },
  {
   "cell_type": "code",
   "execution_count": 37,
   "id": "2989f204",
   "metadata": {},
   "outputs": [
    {
     "name": "stdout",
     "output_type": "stream",
     "text": [
      "       Emotion                                               Text  \\\n",
      "0          joy    Sage Act upgrade on my to do list for tommorow.   \n",
      "1      sadness  ON THE WAY TO MY HOMEGIRL BABY FUNERAL!!! MAN ...   \n",
      "2          joy   Such an eye ! The true hazel eye-and so brill...   \n",
      "3          joy  @Iluvmiasantos ugh babe.. hugggzzz for u .!  b...   \n",
      "4         fear  I'm expecting an extremely important phonecall...   \n",
      "...        ...                                                ...   \n",
      "25676      joy    Tuesday woken up to Oscar and Cornet practice X   \n",
      "25677      joy  The world didnt give it to me..so the world MO...   \n",
      "25678    anger                           A man robbed me today .    \n",
      "25679     fear  Youu call it JEALOUSY, I call it of #Losing YO...   \n",
      "25680  sadness  I think about you baby, and I dream about you ...   \n",
      "\n",
      "                                            cleaned_text  \n",
      "0         sage act upgrade on my to do list for tommorow  \n",
      "1      on the way to my homegirl baby funeral man i h...  \n",
      "2      such an eye the true hazel eyeand so brilliant...  \n",
      "3      iluvmiasantos ugh babe hugggzzz for u babe naa...  \n",
      "4      im expecting an extremely important phonecall ...  \n",
      "...                                                  ...  \n",
      "25676    tuesday woken up to oscar and cornet practice x  \n",
      "25677  the world didnt give it to meso the world most...  \n",
      "25678                              a man robbed me today  \n",
      "25679      youu call it jealousy i call it of losing you  \n",
      "25680  i think about you baby and i dream about you a...  \n",
      "\n",
      "[25681 rows x 3 columns]\n"
     ]
    }
   ],
   "source": [
    "saved_df=pd.read_csv(\"preprocessed_dataset.csv\")\n",
    "print(saved_df)"
   ]
  },
  {
   "cell_type": "code",
   "execution_count": 39,
   "id": "d326f3bb",
   "metadata": {},
   "outputs": [],
   "source": [
    "import random\n",
    "from nltk.corpus import wordnet"
   ]
  },
  {
   "cell_type": "code",
   "execution_count": 40,
   "id": "5b4a95e5",
   "metadata": {},
   "outputs": [
    {
     "ename": "LookupError",
     "evalue": "\n**********************************************************************\n  Resource \u001b[93mwordnet\u001b[0m not found.\n  Please use the NLTK Downloader to obtain the resource:\n\n  \u001b[31m>>> import nltk\n  >>> nltk.download('wordnet')\n  \u001b[0m\n  For more information see: https://www.nltk.org/data.html\n\n  Attempted to load \u001b[93mcorpora/wordnet\u001b[0m\n\n  Searched in:\n    - 'C:\\\\Users\\\\ADMIN/nltk_data'\n    - 'C:\\\\Users\\\\ADMIN\\\\anaconda3\\\\nltk_data'\n    - 'C:\\\\Users\\\\ADMIN\\\\anaconda3\\\\share\\\\nltk_data'\n    - 'C:\\\\Users\\\\ADMIN\\\\anaconda3\\\\lib\\\\nltk_data'\n    - 'C:\\\\Users\\\\ADMIN\\\\AppData\\\\Roaming\\\\nltk_data'\n    - 'C:\\\\nltk_data'\n    - 'D:\\\\nltk_data'\n    - 'E:\\\\nltk_data'\n**********************************************************************\n",
     "output_type": "error",
     "traceback": [
      "\u001b[1;31m---------------------------------------------------------------------------\u001b[0m",
      "\u001b[1;31mLookupError\u001b[0m                               Traceback (most recent call last)",
      "File \u001b[1;32m~\\anaconda3\\Lib\\site-packages\\nltk\\corpus\\util.py:84\u001b[0m, in \u001b[0;36mLazyCorpusLoader.__load\u001b[1;34m(self)\u001b[0m\n\u001b[0;32m     83\u001b[0m \u001b[38;5;28;01mtry\u001b[39;00m:\n\u001b[1;32m---> 84\u001b[0m     root \u001b[38;5;241m=\u001b[39m nltk\u001b[38;5;241m.\u001b[39mdata\u001b[38;5;241m.\u001b[39mfind(\u001b[38;5;124mf\u001b[39m\u001b[38;5;124m\"\u001b[39m\u001b[38;5;132;01m{\u001b[39;00m\u001b[38;5;28mself\u001b[39m\u001b[38;5;241m.\u001b[39msubdir\u001b[38;5;132;01m}\u001b[39;00m\u001b[38;5;124m/\u001b[39m\u001b[38;5;132;01m{\u001b[39;00mzip_name\u001b[38;5;132;01m}\u001b[39;00m\u001b[38;5;124m\"\u001b[39m)\n\u001b[0;32m     85\u001b[0m \u001b[38;5;28;01mexcept\u001b[39;00m \u001b[38;5;167;01mLookupError\u001b[39;00m:\n",
      "File \u001b[1;32m~\\anaconda3\\Lib\\site-packages\\nltk\\data.py:583\u001b[0m, in \u001b[0;36mfind\u001b[1;34m(resource_name, paths)\u001b[0m\n\u001b[0;32m    582\u001b[0m resource_not_found \u001b[38;5;241m=\u001b[39m \u001b[38;5;124mf\u001b[39m\u001b[38;5;124m\"\u001b[39m\u001b[38;5;130;01m\\n\u001b[39;00m\u001b[38;5;132;01m{\u001b[39;00msep\u001b[38;5;132;01m}\u001b[39;00m\u001b[38;5;130;01m\\n\u001b[39;00m\u001b[38;5;132;01m{\u001b[39;00mmsg\u001b[38;5;132;01m}\u001b[39;00m\u001b[38;5;130;01m\\n\u001b[39;00m\u001b[38;5;132;01m{\u001b[39;00msep\u001b[38;5;132;01m}\u001b[39;00m\u001b[38;5;130;01m\\n\u001b[39;00m\u001b[38;5;124m\"\u001b[39m\n\u001b[1;32m--> 583\u001b[0m \u001b[38;5;28;01mraise\u001b[39;00m \u001b[38;5;167;01mLookupError\u001b[39;00m(resource_not_found)\n",
      "\u001b[1;31mLookupError\u001b[0m: \n**********************************************************************\n  Resource \u001b[93mwordnet\u001b[0m not found.\n  Please use the NLTK Downloader to obtain the resource:\n\n  \u001b[31m>>> import nltk\n  >>> nltk.download('wordnet')\n  \u001b[0m\n  For more information see: https://www.nltk.org/data.html\n\n  Attempted to load \u001b[93mcorpora/wordnet.zip/wordnet/\u001b[0m\n\n  Searched in:\n    - 'C:\\\\Users\\\\ADMIN/nltk_data'\n    - 'C:\\\\Users\\\\ADMIN\\\\anaconda3\\\\nltk_data'\n    - 'C:\\\\Users\\\\ADMIN\\\\anaconda3\\\\share\\\\nltk_data'\n    - 'C:\\\\Users\\\\ADMIN\\\\anaconda3\\\\lib\\\\nltk_data'\n    - 'C:\\\\Users\\\\ADMIN\\\\AppData\\\\Roaming\\\\nltk_data'\n    - 'C:\\\\nltk_data'\n    - 'D:\\\\nltk_data'\n    - 'E:\\\\nltk_data'\n**********************************************************************\n",
      "\nDuring handling of the above exception, another exception occurred:\n",
      "\u001b[1;31mLookupError\u001b[0m                               Traceback (most recent call last)",
      "Cell \u001b[1;32mIn[40], line 15\u001b[0m\n\u001b[0;32m     12\u001b[0m     \u001b[38;5;28;01mreturn\u001b[39;00m \u001b[38;5;124m'\u001b[39m\u001b[38;5;124m \u001b[39m\u001b[38;5;124m'\u001b[39m\u001b[38;5;241m.\u001b[39mjoin(new_words)\n\u001b[0;32m     14\u001b[0m \u001b[38;5;66;03m# Apply synonym replacement\u001b[39;00m\n\u001b[1;32m---> 15\u001b[0m pre_df_copy[\u001b[38;5;124m'\u001b[39m\u001b[38;5;124maugmented_text\u001b[39m\u001b[38;5;124m'\u001b[39m] \u001b[38;5;241m=\u001b[39m pre_df_copy[\u001b[38;5;124m'\u001b[39m\u001b[38;5;124mcleaned_text\u001b[39m\u001b[38;5;124m'\u001b[39m]\u001b[38;5;241m.\u001b[39mapply(replace_synonyms)\n\u001b[0;32m     17\u001b[0m \u001b[38;5;28mprint\u001b[39m(pre_df_copy\u001b[38;5;241m.\u001b[39mhead())\n",
      "File \u001b[1;32m~\\anaconda3\\Lib\\site-packages\\pandas\\core\\series.py:4771\u001b[0m, in \u001b[0;36mSeries.apply\u001b[1;34m(self, func, convert_dtype, args, **kwargs)\u001b[0m\n\u001b[0;32m   4661\u001b[0m \u001b[38;5;28;01mdef\u001b[39;00m \u001b[38;5;21mapply\u001b[39m(\n\u001b[0;32m   4662\u001b[0m     \u001b[38;5;28mself\u001b[39m,\n\u001b[0;32m   4663\u001b[0m     func: AggFuncType,\n\u001b[1;32m   (...)\u001b[0m\n\u001b[0;32m   4666\u001b[0m     \u001b[38;5;241m*\u001b[39m\u001b[38;5;241m*\u001b[39mkwargs,\n\u001b[0;32m   4667\u001b[0m ) \u001b[38;5;241m-\u001b[39m\u001b[38;5;241m>\u001b[39m DataFrame \u001b[38;5;241m|\u001b[39m Series:\n\u001b[0;32m   4668\u001b[0m \u001b[38;5;250m    \u001b[39m\u001b[38;5;124;03m\"\"\"\u001b[39;00m\n\u001b[0;32m   4669\u001b[0m \u001b[38;5;124;03m    Invoke function on values of Series.\u001b[39;00m\n\u001b[0;32m   4670\u001b[0m \n\u001b[1;32m   (...)\u001b[0m\n\u001b[0;32m   4769\u001b[0m \u001b[38;5;124;03m    dtype: float64\u001b[39;00m\n\u001b[0;32m   4770\u001b[0m \u001b[38;5;124;03m    \"\"\"\u001b[39;00m\n\u001b[1;32m-> 4771\u001b[0m     \u001b[38;5;28;01mreturn\u001b[39;00m SeriesApply(\u001b[38;5;28mself\u001b[39m, func, convert_dtype, args, kwargs)\u001b[38;5;241m.\u001b[39mapply()\n",
      "File \u001b[1;32m~\\anaconda3\\Lib\\site-packages\\pandas\\core\\apply.py:1123\u001b[0m, in \u001b[0;36mSeriesApply.apply\u001b[1;34m(self)\u001b[0m\n\u001b[0;32m   1120\u001b[0m     \u001b[38;5;28;01mreturn\u001b[39;00m \u001b[38;5;28mself\u001b[39m\u001b[38;5;241m.\u001b[39mapply_str()\n\u001b[0;32m   1122\u001b[0m \u001b[38;5;66;03m# self.f is Callable\u001b[39;00m\n\u001b[1;32m-> 1123\u001b[0m \u001b[38;5;28;01mreturn\u001b[39;00m \u001b[38;5;28mself\u001b[39m\u001b[38;5;241m.\u001b[39mapply_standard()\n",
      "File \u001b[1;32m~\\anaconda3\\Lib\\site-packages\\pandas\\core\\apply.py:1174\u001b[0m, in \u001b[0;36mSeriesApply.apply_standard\u001b[1;34m(self)\u001b[0m\n\u001b[0;32m   1172\u001b[0m     \u001b[38;5;28;01melse\u001b[39;00m:\n\u001b[0;32m   1173\u001b[0m         values \u001b[38;5;241m=\u001b[39m obj\u001b[38;5;241m.\u001b[39mastype(\u001b[38;5;28mobject\u001b[39m)\u001b[38;5;241m.\u001b[39m_values\n\u001b[1;32m-> 1174\u001b[0m         mapped \u001b[38;5;241m=\u001b[39m lib\u001b[38;5;241m.\u001b[39mmap_infer(\n\u001b[0;32m   1175\u001b[0m             values,\n\u001b[0;32m   1176\u001b[0m             f,\n\u001b[0;32m   1177\u001b[0m             convert\u001b[38;5;241m=\u001b[39m\u001b[38;5;28mself\u001b[39m\u001b[38;5;241m.\u001b[39mconvert_dtype,\n\u001b[0;32m   1178\u001b[0m         )\n\u001b[0;32m   1180\u001b[0m \u001b[38;5;28;01mif\u001b[39;00m \u001b[38;5;28mlen\u001b[39m(mapped) \u001b[38;5;129;01mand\u001b[39;00m \u001b[38;5;28misinstance\u001b[39m(mapped[\u001b[38;5;241m0\u001b[39m], ABCSeries):\n\u001b[0;32m   1181\u001b[0m     \u001b[38;5;66;03m# GH#43986 Need to do list(mapped) in order to get treated as nested\u001b[39;00m\n\u001b[0;32m   1182\u001b[0m     \u001b[38;5;66;03m#  See also GH#25959 regarding EA support\u001b[39;00m\n\u001b[0;32m   1183\u001b[0m     \u001b[38;5;28;01mreturn\u001b[39;00m obj\u001b[38;5;241m.\u001b[39m_constructor_expanddim(\u001b[38;5;28mlist\u001b[39m(mapped), index\u001b[38;5;241m=\u001b[39mobj\u001b[38;5;241m.\u001b[39mindex)\n",
      "File \u001b[1;32m~\\anaconda3\\Lib\\site-packages\\pandas\\_libs\\lib.pyx:2924\u001b[0m, in \u001b[0;36mpandas._libs.lib.map_infer\u001b[1;34m()\u001b[0m\n",
      "Cell \u001b[1;32mIn[40], line 6\u001b[0m, in \u001b[0;36mreplace_synonyms\u001b[1;34m(text)\u001b[0m\n\u001b[0;32m      4\u001b[0m new_words \u001b[38;5;241m=\u001b[39m []\n\u001b[0;32m      5\u001b[0m \u001b[38;5;28;01mfor\u001b[39;00m word \u001b[38;5;129;01min\u001b[39;00m words:\n\u001b[1;32m----> 6\u001b[0m     synonyms \u001b[38;5;241m=\u001b[39m wordnet\u001b[38;5;241m.\u001b[39msynsets(word)\n\u001b[0;32m      7\u001b[0m     \u001b[38;5;28;01mif\u001b[39;00m synonyms:\n\u001b[0;32m      8\u001b[0m         synonym \u001b[38;5;241m=\u001b[39m random\u001b[38;5;241m.\u001b[39mchoice(synonyms)\u001b[38;5;241m.\u001b[39mlemmas()[\u001b[38;5;241m0\u001b[39m]\u001b[38;5;241m.\u001b[39mname()\n",
      "File \u001b[1;32m~\\anaconda3\\Lib\\site-packages\\nltk\\corpus\\util.py:121\u001b[0m, in \u001b[0;36mLazyCorpusLoader.__getattr__\u001b[1;34m(self, attr)\u001b[0m\n\u001b[0;32m    118\u001b[0m \u001b[38;5;28;01mif\u001b[39;00m attr \u001b[38;5;241m==\u001b[39m \u001b[38;5;124m\"\u001b[39m\u001b[38;5;124m__bases__\u001b[39m\u001b[38;5;124m\"\u001b[39m:\n\u001b[0;32m    119\u001b[0m     \u001b[38;5;28;01mraise\u001b[39;00m \u001b[38;5;167;01mAttributeError\u001b[39;00m(\u001b[38;5;124m\"\u001b[39m\u001b[38;5;124mLazyCorpusLoader object has no attribute \u001b[39m\u001b[38;5;124m'\u001b[39m\u001b[38;5;124m__bases__\u001b[39m\u001b[38;5;124m'\u001b[39m\u001b[38;5;124m\"\u001b[39m)\n\u001b[1;32m--> 121\u001b[0m \u001b[38;5;28mself\u001b[39m\u001b[38;5;241m.\u001b[39m__load()\n\u001b[0;32m    122\u001b[0m \u001b[38;5;66;03m# This looks circular, but its not, since __load() changes our\u001b[39;00m\n\u001b[0;32m    123\u001b[0m \u001b[38;5;66;03m# __class__ to something new:\u001b[39;00m\n\u001b[0;32m    124\u001b[0m \u001b[38;5;28;01mreturn\u001b[39;00m \u001b[38;5;28mgetattr\u001b[39m(\u001b[38;5;28mself\u001b[39m, attr)\n",
      "File \u001b[1;32m~\\anaconda3\\Lib\\site-packages\\nltk\\corpus\\util.py:86\u001b[0m, in \u001b[0;36mLazyCorpusLoader.__load\u001b[1;34m(self)\u001b[0m\n\u001b[0;32m     84\u001b[0m             root \u001b[38;5;241m=\u001b[39m nltk\u001b[38;5;241m.\u001b[39mdata\u001b[38;5;241m.\u001b[39mfind(\u001b[38;5;124mf\u001b[39m\u001b[38;5;124m\"\u001b[39m\u001b[38;5;132;01m{\u001b[39;00m\u001b[38;5;28mself\u001b[39m\u001b[38;5;241m.\u001b[39msubdir\u001b[38;5;132;01m}\u001b[39;00m\u001b[38;5;124m/\u001b[39m\u001b[38;5;132;01m{\u001b[39;00mzip_name\u001b[38;5;132;01m}\u001b[39;00m\u001b[38;5;124m\"\u001b[39m)\n\u001b[0;32m     85\u001b[0m         \u001b[38;5;28;01mexcept\u001b[39;00m \u001b[38;5;167;01mLookupError\u001b[39;00m:\n\u001b[1;32m---> 86\u001b[0m             \u001b[38;5;28;01mraise\u001b[39;00m e\n\u001b[0;32m     88\u001b[0m \u001b[38;5;66;03m# Load the corpus.\u001b[39;00m\n\u001b[0;32m     89\u001b[0m corpus \u001b[38;5;241m=\u001b[39m \u001b[38;5;28mself\u001b[39m\u001b[38;5;241m.\u001b[39m__reader_cls(root, \u001b[38;5;241m*\u001b[39m\u001b[38;5;28mself\u001b[39m\u001b[38;5;241m.\u001b[39m__args, \u001b[38;5;241m*\u001b[39m\u001b[38;5;241m*\u001b[39m\u001b[38;5;28mself\u001b[39m\u001b[38;5;241m.\u001b[39m__kwargs)\n",
      "File \u001b[1;32m~\\anaconda3\\Lib\\site-packages\\nltk\\corpus\\util.py:81\u001b[0m, in \u001b[0;36mLazyCorpusLoader.__load\u001b[1;34m(self)\u001b[0m\n\u001b[0;32m     79\u001b[0m \u001b[38;5;28;01melse\u001b[39;00m:\n\u001b[0;32m     80\u001b[0m     \u001b[38;5;28;01mtry\u001b[39;00m:\n\u001b[1;32m---> 81\u001b[0m         root \u001b[38;5;241m=\u001b[39m nltk\u001b[38;5;241m.\u001b[39mdata\u001b[38;5;241m.\u001b[39mfind(\u001b[38;5;124mf\u001b[39m\u001b[38;5;124m\"\u001b[39m\u001b[38;5;132;01m{\u001b[39;00m\u001b[38;5;28mself\u001b[39m\u001b[38;5;241m.\u001b[39msubdir\u001b[38;5;132;01m}\u001b[39;00m\u001b[38;5;124m/\u001b[39m\u001b[38;5;132;01m{\u001b[39;00m\u001b[38;5;28mself\u001b[39m\u001b[38;5;241m.\u001b[39m__name\u001b[38;5;132;01m}\u001b[39;00m\u001b[38;5;124m\"\u001b[39m)\n\u001b[0;32m     82\u001b[0m     \u001b[38;5;28;01mexcept\u001b[39;00m \u001b[38;5;167;01mLookupError\u001b[39;00m \u001b[38;5;28;01mas\u001b[39;00m e:\n\u001b[0;32m     83\u001b[0m         \u001b[38;5;28;01mtry\u001b[39;00m:\n",
      "File \u001b[1;32m~\\anaconda3\\Lib\\site-packages\\nltk\\data.py:583\u001b[0m, in \u001b[0;36mfind\u001b[1;34m(resource_name, paths)\u001b[0m\n\u001b[0;32m    581\u001b[0m sep \u001b[38;5;241m=\u001b[39m \u001b[38;5;124m\"\u001b[39m\u001b[38;5;124m*\u001b[39m\u001b[38;5;124m\"\u001b[39m \u001b[38;5;241m*\u001b[39m \u001b[38;5;241m70\u001b[39m\n\u001b[0;32m    582\u001b[0m resource_not_found \u001b[38;5;241m=\u001b[39m \u001b[38;5;124mf\u001b[39m\u001b[38;5;124m\"\u001b[39m\u001b[38;5;130;01m\\n\u001b[39;00m\u001b[38;5;132;01m{\u001b[39;00msep\u001b[38;5;132;01m}\u001b[39;00m\u001b[38;5;130;01m\\n\u001b[39;00m\u001b[38;5;132;01m{\u001b[39;00mmsg\u001b[38;5;132;01m}\u001b[39;00m\u001b[38;5;130;01m\\n\u001b[39;00m\u001b[38;5;132;01m{\u001b[39;00msep\u001b[38;5;132;01m}\u001b[39;00m\u001b[38;5;130;01m\\n\u001b[39;00m\u001b[38;5;124m\"\u001b[39m\n\u001b[1;32m--> 583\u001b[0m \u001b[38;5;28;01mraise\u001b[39;00m \u001b[38;5;167;01mLookupError\u001b[39;00m(resource_not_found)\n",
      "\u001b[1;31mLookupError\u001b[0m: \n**********************************************************************\n  Resource \u001b[93mwordnet\u001b[0m not found.\n  Please use the NLTK Downloader to obtain the resource:\n\n  \u001b[31m>>> import nltk\n  >>> nltk.download('wordnet')\n  \u001b[0m\n  For more information see: https://www.nltk.org/data.html\n\n  Attempted to load \u001b[93mcorpora/wordnet\u001b[0m\n\n  Searched in:\n    - 'C:\\\\Users\\\\ADMIN/nltk_data'\n    - 'C:\\\\Users\\\\ADMIN\\\\anaconda3\\\\nltk_data'\n    - 'C:\\\\Users\\\\ADMIN\\\\anaconda3\\\\share\\\\nltk_data'\n    - 'C:\\\\Users\\\\ADMIN\\\\anaconda3\\\\lib\\\\nltk_data'\n    - 'C:\\\\Users\\\\ADMIN\\\\AppData\\\\Roaming\\\\nltk_data'\n    - 'C:\\\\nltk_data'\n    - 'D:\\\\nltk_data'\n    - 'E:\\\\nltk_data'\n**********************************************************************\n"
     ]
    }
   ],
   "source": [
    "# Function to replace words with synonyms\n",
    "def replace_synonyms(text):\n",
    "    words = text.split()\n",
    "    new_words = []\n",
    "    for word in words:\n",
    "        synonyms = wordnet.synsets(word)\n",
    "        if synonyms:\n",
    "            synonym = random.choice(synonyms).lemmas()[0].name()\n",
    "            new_words.append(synonym)\n",
    "        else:\n",
    "            new_words.append(word)\n",
    "    return ' '.join(new_words)\n",
    "\n",
    "# Apply synonym replacement\n",
    "pre_df_copy['augmented_text'] = pre_df_copy['cleaned_text'].apply(replace_synonyms)\n",
    "\n",
    "print(pre_df_copy.head())\n"
   ]
  },
  {
   "cell_type": "code",
   "execution_count": 41,
   "id": "b5ced222",
   "metadata": {},
   "outputs": [],
   "source": [
    "from imblearn.over_sampling import RandomOverSampler\n"
   ]
  },
  {
   "cell_type": "code",
   "execution_count": 42,
   "id": "9dac7d63",
   "metadata": {},
   "outputs": [
    {
     "name": "stdout",
     "output_type": "stream",
     "text": [
      "joy        10464\n",
      "sadness    10464\n",
      "fear       10464\n",
      "anger      10464\n",
      "shame      10464\n",
      "disgust    10464\n",
      "Name: Emotion, dtype: int64\n"
     ]
    }
   ],
   "source": [
    "import pandas as pd\n",
    "from imblearn.over_sampling import RandomOverSampler\n",
    "\n",
    "# Assuming pre_df_copy is your DataFrame with cleaned text and emotions\n",
    "X = pre_df_copy['cleaned_text']  # Features\n",
    "y = pre_df_copy['Emotion']       # Labels\n",
    "\n",
    "# Create an instance of RandomOverSampler\n",
    "ros = RandomOverSampler(random_state=42)\n",
    "\n",
    "# Fit and resample the data\n",
    "X_resampled, y_resampled = ros.fit_resample(X.values.reshape(-1, 1), y)\n",
    "\n",
    "# Convert back to DataFrame\n",
    "balanced_data = pd.DataFrame({'Text': X_resampled.flatten(), 'Emotion': y_resampled})\n",
    "\n",
    "# Print the distribution of labels in the balanced dataset\n",
    "print(balanced_data['Emotion'].value_counts())\n"
   ]
  },
  {
   "cell_type": "code",
   "execution_count": 44,
   "id": "41d27ee3",
   "metadata": {},
   "outputs": [
    {
     "data": {
      "image/png": "[encoded data removed]",
      "text/plain": [
       "<Figure size 1000x600 with 1 Axes>"
      ]
     },
     "metadata": {},
     "output_type": "display_data"
    }
   ],
   "source": [
    "label_counts = balanced_data['Emotion'].value_counts()\n",
    "\n",
    "\n",
    "# Set the style of the visualization\n",
    "sns.set(style=\"whitegrid\")\n",
    "\n",
    "# Create a bar plot\n",
    "plt.figure(figsize=(10, 6))\n",
    "sns.barplot(x=label_counts.index, y=label_counts.values, palette=\"viridis\")\n",
    "\n",
    "# Add titles and labels\n",
    "plt.title('Label Distribution')\n",
    "plt.xlabel('Labels')\n",
    "plt.ylabel('Count')\n",
    "\n",
    "# Display the plot\n",
    "plt.show()\n"
   ]
  },
  {
   "cell_type": "code",
   "execution_count": 49,
   "id": "0eae0434",
   "metadata": {},
   "outputs": [
    {
     "name": "stdout",
     "output_type": "stream",
     "text": [
      "                                                    Text  Emotion\n",
      "0         sage act upgrade on my to do list for tommorow      joy\n",
      "1      on the way to my homegirl baby funeral man i h...  sadness\n",
      "2      such an eye the true hazel eyeand so brilliant...      joy\n",
      "3      iluvmiasantos ugh babe hugggzzz for u babe naa...      joy\n",
      "4      im expecting an extremely important phonecall ...     fear\n",
      "...                                                  ...      ...\n",
      "62779  eight out of agreed it was ok for girls to car...    shame\n",
      "62780  he felt guilty as he thought of maeve s sweet ...    shame\n",
      "62781  a lot of the time you just shoot because you r...    shame\n",
      "62782  he felt guilty as he thought of maeve s sweet ...    shame\n",
      "62783  what s this playing infant games still he dema...    shame\n",
      "\n",
      "[62784 rows x 2 columns]\n"
     ]
    }
   ],
   "source": [
    "print(balanced_data)"
   ]
  },
  {
   "cell_type": "code",
   "execution_count": 51,
   "id": "e1a26f95",
   "metadata": {},
   "outputs": [
    {
     "name": "stdout",
     "output_type": "stream",
     "text": [
      "(62784, 5000)\n"
     ]
    }
   ],
   "source": [
    "\n",
    "# TF-IDF Vectorization\n",
    "tfidf_vectorizer = TfidfVectorizer(max_features=5000)\n",
    "X_tfidf = tfidf_vectorizer.fit_transform(balanced_data['Text'])\n",
    "\n",
    "print(X_tfidf.shape)\n"
   ]
  },
  {
   "cell_type": "code",
   "execution_count": 54,
   "id": "ed7f71ea",
   "metadata": {},
   "outputs": [
    {
     "name": "stdout",
     "output_type": "stream",
     "text": [
      "(31392, 5000) (21974, 5000) (9418, 5000)\n"
     ]
    }
   ],
   "source": [
    "\n",
    "# Train-Validation-Test Split\n",
    "X_train, X_temp, y_train, y_temp = train_test_split(X_tfidf, balanced_data['Emotion'], test_size=0.5, random_state=42)\n",
    "X_val, X_test, y_val, y_test = train_test_split(X_temp, y_temp, test_size=0.3, random_state=42)\n",
    "\n",
    "print(X_train.shape, X_val.shape, X_test.shape)\n"
   ]
  },
  {
   "cell_type": "code",
   "execution_count": 55,
   "id": "7feba7a6",
   "metadata": {},
   "outputs": [],
   "source": [
    "balanced_data.to_csv('final_dataset.csv', index=False)\n"
   ]
  },
  {
   "cell_type": "code",
   "execution_count": null,
   "id": "21e7731d",
   "metadata": {},
   "outputs": [],
   "source": []
  }
 ],
 "metadata": {
  "kernelspec": {
   "display_name": "Python 3 (ipykernel)",
   "language": "python",
   "name": "python3"
  },
  "language_info": {
   "codemirror_mode": {
    "name": "ipython",
    "version": 3
   },
   "file_extension": ".py",
   "mimetype": "text/x-python",
   "name": "python",
   "nbconvert_exporter": "python",
   "pygments_lexer": "ipython3",
   "version": "3.11.4"
  }
 },
 "nbformat": 4,
 "nbformat_minor": 5
}
